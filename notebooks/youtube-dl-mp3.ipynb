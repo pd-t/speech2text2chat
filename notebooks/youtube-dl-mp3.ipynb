{
 "cells": [
  {
   "cell_type": "code",
   "execution_count": 5,
   "id": "339c32cb",
   "metadata": {},
   "outputs": [
    {
     "name": "stdout",
     "output_type": "stream",
     "text": [
      "Collecting git+https://github.com/ytdl-org/youtube-dl.git@master\n",
      "  Cloning https://github.com/ytdl-org/youtube-dl.git (to revision master) to /tmp/pip-req-build-5sdayhjk\n",
      "  Running command git clone --filter=blob:none --quiet https://github.com/ytdl-org/youtube-dl.git /tmp/pip-req-build-5sdayhjk\n",
      "  Resolved https://github.com/ytdl-org/youtube-dl.git to commit 6fece0a96b3cd8677f5c1185a57c6e21403fcb44\n",
      "  Preparing metadata (setup.py) ... \u001b[?25ldone\n",
      "\n",
      "\u001b[1m[\u001b[0m\u001b[34;49mnotice\u001b[0m\u001b[1;39;49m]\u001b[0m\u001b[39;49m A new release of pip available: \u001b[0m\u001b[31;49m22.3\u001b[0m\u001b[39;49m -> \u001b[0m\u001b[32;49m23.0.1\u001b[0m\n",
      "\u001b[1m[\u001b[0m\u001b[34;49mnotice\u001b[0m\u001b[1;39;49m]\u001b[0m\u001b[39;49m To update, run: \u001b[0m\u001b[32;49mpip install --upgrade pip\u001b[0m\n",
      "\u001b[?25h"
     ]
    }
   ],
   "source": [
    "!pip install 'git+https://github.com/ytdl-org/youtube-dl.git@master'"
   ]
  },
  {
   "cell_type": "code",
   "execution_count": 6,
   "id": "4b802de4",
   "metadata": {},
   "outputs": [
    {
     "name": "stdout",
     "output_type": "stream",
     "text": [
      "Hit:1 http://archive.ubuntu.com/ubuntu bionic InRelease\n",
      "Hit:2 http://security.ubuntu.com/ubuntu bionic-security InRelease              \n",
      "Hit:3 http://archive.ubuntu.com/ubuntu bionic-updates InRelease                \n",
      "Hit:4 https://developer.download.nvidia.com/compute/cuda/repos/ubuntu2004/x86_64  InRelease\n",
      "Hit:5 http://archive.ubuntu.com/ubuntu bionic-backports InRelease       \n",
      "Get:6 https://packages.cloud.google.com/apt kubernetes-xenial InRelease [8993 B]\n",
      "Err:6 https://packages.cloud.google.com/apt kubernetes-xenial InRelease\n",
      "  The following signatures couldn't be verified because the public key is not available: NO_PUBKEY B53DC80D13EDEF05\n",
      "Fetched 8993 B in 1s (12.6 kB/s)\n",
      "Reading package lists... Done\n",
      "W: An error occurred during the signature verification. The repository is not updated and the previous index files will be used. GPG error: https://packages.cloud.google.com/apt kubernetes-xenial InRelease: The following signatures couldn't be verified because the public key is not available: NO_PUBKEY B53DC80D13EDEF05\n",
      "W: Failed to fetch http://apt.kubernetes.io/dists/kubernetes-xenial/InRelease  The following signatures couldn't be verified because the public key is not available: NO_PUBKEY B53DC80D13EDEF05\n",
      "W: Some index files failed to download. They have been ignored, or old ones used instead.\n",
      "Reading package lists... Done\n",
      "Building dependency tree       \n",
      "Reading state information... Done\n",
      "ffmpeg is already the newest version (7:3.4.11-0ubuntu0.1).\n",
      "0 upgraded, 0 newly installed, 0 to remove and 65 not upgraded.\n"
     ]
    }
   ],
   "source": [
    "!sudo apt-get update && sudo apt-get install -y ffmpeg"
   ]
  },
  {
   "cell_type": "code",
   "execution_count": 9,
   "id": "ea0d7b35",
   "metadata": {},
   "outputs": [
    {
     "name": "stdout",
     "output_type": "stream",
     "text": [
      "[debug] System config: []\n",
      "[debug] User config: []\n",
      "[debug] Custom config: []\n",
      "[debug] Command-line args: ['-x', '--audio-format', 'mp3', 'https://www.youtube.com/watch?v=kd-mWl1cq48', '--verbose', '--output', 'audio-youtube-dl.mp3']\n",
      "[debug] Encodings: locale UTF-8, fs utf-8, out utf-8, pref UTF-8\n",
      "[debug] youtube-dl version 2021.12.17\n",
      "[debug] Python version 3.8.5 (CPython) - Linux-5.15.0-69-generic-x86_64-with-glibc2.10\n",
      "[debug] exe versions: ffmpeg 3.4.11, ffprobe 3.4.11\n",
      "[debug] Proxy map: {}\n",
      "[youtube] kd-mWl1cq48: Downloading webpage\n",
      "[debug] [youtube] Decrypted nsig hpPg5NsOAPd9OHdsq_Y => 1Ph-YAjgWhfXsg\n",
      "[debug] [youtube] Decrypted nsig YhvB353TsgOE9CUESwa => _koedRk36SrCUA\n",
      "[debug] Invoking downloader on 'https://rr1---sn-4g5e6ns6.googlevideo.com/videoplayback?expire=1680732015&ei=D5stZK_dIYmSgQfk9ZbgBg&ip=62.204.170.174&id=o-AA2QqJjC2d8l2bIDJ04V8DwTzWc6x_CmkrDP_h58oRQL&itag=140&source=youtube&requiressl=yes&mh=hC&mm=31%2C26&mn=sn-4g5e6ns6%2Csn-f5f7kn7z&ms=au%2Conr&mv=m&mvi=1&pl=21&initcwndbps=1823750&vprv=1&mime=audio%2Fmp4&ns=LZAqBuADVjBTm3JrrXznb04M&gir=yes&clen=27125884&dur=1676.062&lmt=1678595992038346&mt=1680709999&fvip=3&keepalive=yes&fexp=24007246&beids=24512783&c=WEB&txp=6211224&n=1Ph-YAjgWhfXsg&sparams=expire%2Cei%2Cip%2Cid%2Citag%2Csource%2Crequiressl%2Cvprv%2Cmime%2Cns%2Cgir%2Cclen%2Cdur%2Clmt&sig=AOq0QJ8wRgIhAP3l0lKRd_gc-4PxaVDJnbuEL2V8Z8ykdYUAXSY-EhKdAiEAxJwBhGDb2roqa9zgMZjIYqs8xj3QZnfFvkRZIbLsLL8%3D&lsparams=mh%2Cmm%2Cmn%2Cms%2Cmv%2Cmvi%2Cpl%2Cinitcwndbps&lsig=AG3C_xAwRQIhAP-e0wpGIQMCgHqS5KPPpbGRoKqvwvBE5ojim-t1Hx9lAiAuwTjsZ13te4gqSVJcpLdUE0qj7I00WchuRyJUSdywtw%3D%3D'\n",
      "[dashsegments] Total fragments: 3\n",
      "[download] Destination: audio-youtube-dl.mp3\n",
      "\u001b[K[download] 100% of 25.87MiB in 00:00.48MiB/s ETA 00:008\n",
      "[ffmpeg] Correcting container in \"audio-youtube-dl.mp3\"\n",
      "[debug] ffmpeg command line: ffmpeg -y -loglevel repeat+info -i file:audio-youtube-dl.mp3 -c copy -f mp4 file:audio-youtube-dl.temp.mp3\n",
      "[debug] ffmpeg command line: ffprobe -show_streams file:audio-youtube-dl.mp3\n",
      "[ffmpeg] Post-process file audio-youtube-dl.mp3 exists, skipping\n"
     ]
    }
   ],
   "source": [
    "!youtube-dl -x --audio-format mp3 https://www.youtube.com/watch\\?v\\=kd-mWl1cq48 --verbose --output \"audio-youtube-dl.mp3\""
   ]
  },
  {
   "cell_type": "code",
   "execution_count": null,
   "id": "591e5897",
   "metadata": {},
   "outputs": [],
   "source": []
  }
 ],
 "metadata": {
  "kernelspec": {
   "display_name": "Python 3 (ipykernel)",
   "language": "python",
   "name": "python3"
  },
  "language_info": {
   "codemirror_mode": {
    "name": "ipython",
    "version": 3
   },
   "file_extension": ".py",
   "mimetype": "text/x-python",
   "name": "python",
   "nbconvert_exporter": "python",
   "pygments_lexer": "ipython3",
   "version": "3.8.5"
  },
  "vscode": {
   "interpreter": {
    "hash": "916dbcbb3f70747c44a77c7bcd40155683ae19c65e1c03b4aa3499c5328201f1"
   }
  }
 },
 "nbformat": 4,
 "nbformat_minor": 5
}
